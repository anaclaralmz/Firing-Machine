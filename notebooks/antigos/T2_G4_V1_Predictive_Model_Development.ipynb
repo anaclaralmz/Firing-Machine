{
  "nbformat": 4,
  "nbformat_minor": 0,
  "metadata": {
    "colab": {
      "name": "Notebook Oficial - Grupo 4 (Firing Machine).ipynb",
      "provenance": [],
      "collapsed_sections": [
        "iN1QLFX5Jnuh",
        "RT-lPA74KQG5",
        "rX5oSyTe3ntY",
        "eiVA_rmJ5lNO",
        "BUIO4mRM0S8o",
        "4Rkrunmm6vuB"
      ]
    },
    "kernelspec": {
      "name": "python3",
      "display_name": "Python 3"
    },
    "language_info": {
      "name": "python"
    }
  },
  "cells": [
    {
      "cell_type": "markdown",
      "source": [
        "Este é o Notebook oficial do grupo 4, aqui teremos:\n",
        "- um resumo da análise de dados;\n",
        "- os códigos responsáveis pelo processamento (tratamento) dos dados da tabela;\n",
        "- o modelo preditivo;\n",
        "\n",
        "Em todos os códigos, há comentários suficientes para explicar o objetivo e funcionamento da função."
      ],
      "metadata": {
        "id": "7_g6gdZgJQMT"
      }
    },
    {
      "cell_type": "markdown",
      "source": [
        "# Importações e instalações"
      ],
      "metadata": {
        "id": "VhqWt_FOzBgL"
      }
    },
    {
      "cell_type": "code",
      "source": [
        "# Bibliotecas \n",
        "import pandas as pd\n",
        "import datetime as dt\n",
        "import numpy as np\n",
        "\n",
        "## Bibliotecas para os gráficos\n",
        "import matplotlib.pyplot as plt\n",
        "import seaborn as sns\n",
        "import plotly.express as px #geração de gráficos dinâmicos\n",
        "import plotly.offline as py\n",
        "import plotly.graph_objs as go\n",
        "\n",
        "!pip install moment\n",
        "import moment\n",
        "\n",
        "py.init_notebook_mode(connected=True)"
      ],
      "metadata": {
        "id": "MYTaVF6MzI3u"
      },
      "execution_count": null,
      "outputs": []
    },
    {
      "cell_type": "code",
      "source": [
        "# Conectando ao google drive\n",
        "from google.colab import drive\n",
        "drive.mount('/content/drive')\n",
        "content_link = '/content/drive/Shareddrives/G444 Drive/docs everymind/Base Colaboradores Everymind_Inteli_2020 a 2022vModelo Preditivo.xlsx'"
      ],
      "metadata": {
        "id": "tS-ug5syzYDy"
      },
      "execution_count": null,
      "outputs": []
    },
    {
      "cell_type": "code",
      "source": [
        "# Importando as planilhas\n",
        "df1 = pd.read_excel(content_link)\n",
        "df2 = pd.read_excel(content_link, sheet_name = 'Reconhecimento')\n",
        "df3 = pd.read_excel(content_link, sheet_name = 'Ambiente de Trabalho 27.07')"
      ],
      "metadata": {
        "id": "m4k4OMn7z-id"
      },
      "execution_count": null,
      "outputs": []
    },
    {
      "cell_type": "markdown",
      "source": [
        "# Análise de Dados - Resumo"
      ],
      "metadata": {
        "id": "iDlukObZJq2m"
      }
    },
    {
      "cell_type": "markdown",
      "source": [
        "# Tratamento de Dados"
      ],
      "metadata": {
        "id": "L3yDIKRaJuaC"
      }
    },
    {
      "cell_type": "markdown",
      "source": [
        "Resumo da seção:\n",
        "- Modificação de dados \n",
        "- Categorização\n",
        "- Derivação"
      ],
      "metadata": {
        "id": "-0cMmH4y6mCA"
      }
    },
    {
      "cell_type": "markdown",
      "source": [
        "## Modificação de dados\n",
        "Aqui arrumamos a tipificação de dados (como datas em string para datetime)"
      ],
      "metadata": {
        "id": "iN1QLFX5Jnuh"
      }
    },
    {
      "cell_type": "code",
      "source": [
        "# Na coluna 'Genero', existem espaço incorreto após \"Masculino\"\n",
        "df1['Genero'].replace(' ', '')"
      ],
      "metadata": {
        "id": "QIWAuqC_7vTx"
      },
      "execution_count": null,
      "outputs": []
    },
    {
      "cell_type": "markdown",
      "source": [
        "## Categorização\n",
        "Aqui categorizamos os dados para numérico para tratar melhor com o modelo preditivo (como categorizar Tipo de Saída dos funcionários)"
      ],
      "metadata": {
        "id": "jShGtzlKKN_D"
      }
    },
    {
      "cell_type": "code",
      "source": [
        "# Categorização do gênero dos funcionários\n",
        "df1['Genero Numerico'] = (df1['Genero']\n",
        "                          .replace('Masculino ', 0)\n",
        "                          .replace('Feminino', 1))"
      ],
      "metadata": {
        "id": "zujrRsZF7XQo"
      },
      "execution_count": null,
      "outputs": []
    },
    {
      "cell_type": "code",
      "source": [
        "# Categorização do tipo de saída dos funcionários\n",
        "df1['Tipo Saida Numerico'] = (df1['Tipo Saida']\n",
        "                              .fillna(0)\n",
        "                              .replace('Rescisao Contrato Exp - Dispensa', 1)\n",
        "                              .replace('Rescisao Contrato Exp - Pedido', 2)\n",
        "                              .replace('Dispensa sem Justa Causa', 3)\n",
        "                              .replace('Pedido de Demissão', 4))"
      ],
      "metadata": {
        "id": "d02_7thpQDPO"
      },
      "execution_count": null,
      "outputs": []
    },
    {
      "cell_type": "code",
      "source": [
        "# Criação da tabela status, onde \"0\" é \"desativo\" e \"1\" é \"ativo\"\n",
        "df1['Status Numerico'] = (df1['Tipo Saida Numerico']\n",
        "                          .replace(0, 1)\n",
        "                          .replace(1, 0)\n",
        "                          .replace(2, 0)\n",
        "                          .replace(3, 0)\n",
        "                          .replace(4, 0))"
      ],
      "metadata": {
        "id": "a8MZncBdXoxc"
      },
      "execution_count": null,
      "outputs": []
    },
    {
      "cell_type": "code",
      "source": [
        "# Categorização dos Estados para futuros cruzamentos de dados\n",
        "df1['Estado Numerico'] = (df1['Estado']\n",
        "                       .replace('AC', 1)\n",
        "                       .replace('AL', 2)\n",
        "                       .replace('AP', 3)\n",
        "                       .replace('AM', 4)\n",
        "                       .replace('BA', 5)\n",
        "                       .replace('CE', 6)\n",
        "                       .replace('DF', 7)\n",
        "                       .replace('ES', 8)\n",
        "                       .replace('GO', 9)\n",
        "                       .replace('MA', 10)\n",
        "                       .replace('MT', 11)\n",
        "                       .replace('MS', 12)\n",
        "                       .replace('MG', 13)\n",
        "                       .replace('PA', 14)\n",
        "                       .replace('PB', 15)\n",
        "                       .replace('PR', 16)\n",
        "                       .replace('PE', 17)\n",
        "                       .replace('PI', 18)\n",
        "                       .replace('RJ', 19)\n",
        "                       .replace('RN', 20)\n",
        "                       .replace('RS', 21)\n",
        "                       .replace('RO', 22)\n",
        "                       .replace('RR', 23)\n",
        "                       .replace('SC', 24)\n",
        "                       .replace('SP', 25)\n",
        "                       .replace('SE', 26)\n",
        "                       .replace('TO', 27))"
      ],
      "metadata": {
        "id": "cKUQS3LZJJBr"
      },
      "execution_count": null,
      "outputs": []
    },
    {
      "cell_type": "code",
      "source": [
        "# Categorização das Regiões (agrupando os Estados)\n",
        "df1['Regiao Numerico'] = (df1['Estado Numerico']\n",
        "                       # Norte\n",
        "                       .replace(1, 1)\n",
        "                       .replace(3, 1)\n",
        "                       .replace(4, 1)\n",
        "                       .replace(14, 1)\n",
        "                       .replace(22, 1)\n",
        "                       .replace(23, 1)\n",
        "                       .replace(27, 1) \n",
        "                       # Nordeste\n",
        "                       .replace(2, 2)\n",
        "                       .replace(5, 2)\n",
        "                       .replace(6, 2)\n",
        "                       .replace(10, 2)\n",
        "                       .replace(15, 2)\n",
        "                       .replace(17, 2)\n",
        "                       .replace(18, 2)\n",
        "                       .replace(20, 2)\n",
        "                       .replace(26, 2) \n",
        "                       # Centro\n",
        "                       .replace(7, 3)\n",
        "                       .replace(9, 3)\n",
        "                       .replace(11, 3)\n",
        "                       .replace(12, 3)\n",
        "                       # Sudeste\n",
        "                       .replace(8, 4)\n",
        "                       .replace(13, 4)\n",
        "                       .replace(19, 4)\n",
        "                       .replace(25, 4)\n",
        "                       # Sul\n",
        "                       .replace(16, 5)\n",
        "                       .replace(21, 5)\n",
        "                       .replace(24, 5)\n",
        "                       )"
      ],
      "metadata": {
        "id": "cMN_QXB0Tk2s"
      },
      "execution_count": null,
      "outputs": []
    },
    {
      "cell_type": "markdown",
      "source": [
        "## Derivação\n",
        "Aqui criamos algumas variáveis a mais a partir dos dados que temos para melhorar o modelo preditivo (como criar a idade a partir da data de nascimento)"
      ],
      "metadata": {
        "id": "RT-lPA74KQG5"
      }
    },
    {
      "cell_type": "markdown",
      "source": [
        "### Jornada de trabalho"
      ],
      "metadata": {
        "id": "rX5oSyTe3ntY"
      }
    },
    {
      "cell_type": "code",
      "source": [
        "#Função pega a data de admissão do colaborador e a data do seu desligamento, e encontra o perído entre elas.\n",
        "df1['Tempo de Trabalho'] = (pd.to_datetime(df1['Dt Saida']) - pd.to_datetime(df1['Dt Admissao'])).dropna()"
      ],
      "metadata": {
        "id": "6cnYyBYp4A37"
      },
      "execution_count": null,
      "outputs": []
    },
    {
      "cell_type": "markdown",
      "source": [
        "### Idade"
      ],
      "metadata": {
        "id": "eiVA_rmJ5lNO"
      }
    },
    {
      "cell_type": "code",
      "source": [
        "#Ele pega a data de hoje e subtrai da data de nascimento, retornando a idade, np.timedelta64, transforma o retorno da data de dias para ano.\n",
        "df1['Idade'] = ((pd.to_datetime('today')-pd.to_datetime(df1['Dt Nascimento']))/ np.timedelta64(1, 'Y')).astype(int)"
      ],
      "metadata": {
        "id": "kG7pFj2t5mcU"
      },
      "execution_count": null,
      "outputs": []
    },
    {
      "cell_type": "markdown",
      "source": [
        "## Seleção de dados"
      ],
      "metadata": {
        "id": "s1oDzdKj6guG"
      }
    },
    {
      "cell_type": "markdown",
      "source": [
        "### Quantidades de reconhecimento"
      ],
      "metadata": {
        "id": "BUIO4mRM0S8o"
      }
    },
    {
      "cell_type": "markdown",
      "source": [
        "Em ordem: \n",
        "- Pessoas que saíram\n",
        "- Pessoas que não saíram\n",
        "- Pessoas que foram reconhecidas de alguma forma\n",
        "- Pessoas que não foram reconhecidas\n",
        "- Pessoas que saíram e foram reconhecidas\n",
        "- Pessoas que saíram e não foram reconhecidas "
      ],
      "metadata": {
        "id": "TUxkZbvy0YG1"
      }
    },
    {
      "cell_type": "code",
      "source": [
        "# Pessoas que saíram: ✔\n",
        "pessoas_desativadas = df1.dropna(subset=['Dt Saida'])['Nome Completo'].unique()\n",
        "qtd_desativados = len(pessoas_desativadas)\n",
        "qtd_desativados"
      ],
      "metadata": {
        "id": "bGoXQzjynfNB",
        "colab": {
          "base_uri": "https://localhost:8080/"
        },
        "outputId": "843d7f6a-2c33-44fc-b5e5-3c6ac32cbcb1"
      },
      "execution_count": null,
      "outputs": [
        {
          "output_type": "execute_result",
          "data": {
            "text/plain": [
              "189"
            ]
          },
          "metadata": {},
          "execution_count": 9
        }
      ]
    },
    {
      "cell_type": "code",
      "source": [
        "# Pessoas que não saíram: ✔\n",
        "pessoas_ativas = df1.query('`Dt Saida` == \"\"')['Nome Completo'].unique()\n",
        "len(pessoas_ativas)"
      ],
      "metadata": {
        "id": "mypGcdFxo005",
        "colab": {
          "base_uri": "https://localhost:8080/"
        },
        "outputId": "7080978d-4f8e-4915-f3b1-0179e5adeb95"
      },
      "execution_count": null,
      "outputs": [
        {
          "output_type": "execute_result",
          "data": {
            "text/plain": [
              "284"
            ]
          },
          "metadata": {},
          "execution_count": 10
        }
      ]
    },
    {
      "cell_type": "code",
      "source": [
        "# Pessoas que foram reconhecidas de alguma forma: ✔\n",
        "pessoas_reconhecidas = df2['Codinome'].unique()\n",
        "len(pessoas_reconhecidas)"
      ],
      "metadata": {
        "id": "JjaUx6eW8SV4",
        "colab": {
          "base_uri": "https://localhost:8080/"
        },
        "outputId": "ad073434-d7a1-45c0-a693-ef05aa330026"
      },
      "execution_count": null,
      "outputs": [
        {
          "output_type": "execute_result",
          "data": {
            "text/plain": [
              "173"
            ]
          },
          "metadata": {},
          "execution_count": 11
        }
      ]
    },
    {
      "cell_type": "code",
      "source": [
        "# Pessoas que não foram reconhecidas: ✔\n",
        "lista_pessoas = df1['Nome Completo'].unique()\n",
        "pessoas_sem_reconhecimento = []\n",
        "for i in range(0, len(lista_pessoas)):\n",
        "  if lista_pessoas[i] in pessoas_reconhecidas:\n",
        "    continue\n",
        "  else:\n",
        "    pessoas_sem_reconhecimento.append(lista_pessoas[i])\n",
        "len(pessoas_sem_reconhecimento)"
      ],
      "metadata": {
        "id": "4H5qAXbwB9RW",
        "colab": {
          "base_uri": "https://localhost:8080/"
        },
        "outputId": "1e4077bc-d3a1-4d55-b1d5-15973a63610a"
      },
      "execution_count": null,
      "outputs": [
        {
          "output_type": "execute_result",
          "data": {
            "text/plain": [
              "298"
            ]
          },
          "metadata": {},
          "execution_count": 12
        }
      ]
    },
    {
      "cell_type": "code",
      "source": [
        "  # Pessoas que foram reconhecidas e saíram ✔\n",
        "pessoas_desativadas_reconhecidas = df2.query('`Situação` == \"Desligado\"')['Codinome'].unique()\n",
        "len(pessoas_desativadas_reconhecidas)"
      ],
      "metadata": {
        "id": "o7ykdBXwAoe1",
        "colab": {
          "base_uri": "https://localhost:8080/"
        },
        "outputId": "5985d73a-63fc-4a2c-f36d-e0f6a2499790"
      },
      "execution_count": null,
      "outputs": [
        {
          "output_type": "execute_result",
          "data": {
            "text/plain": [
              "62"
            ]
          },
          "metadata": {},
          "execution_count": 13
        }
      ]
    },
    {
      "cell_type": "code",
      "source": [
        "# Pessoas que não foram reconhecidas e saíram:\n",
        "pessoas_desativadas_sem_reconhecimento = []\n",
        "for pessoa in pessoas_desativadas:\n",
        "  if pessoa in pessoas_reconhecidas:\n",
        "    continue\n",
        "  else:\n",
        "    pessoas_desativadas_sem_reconhecimento.append(pessoa)\n",
        "print(len(pessoas_desativadas_sem_reconhecimento))"
      ],
      "metadata": {
        "id": "EzPrseEl9ZAB",
        "colab": {
          "base_uri": "https://localhost:8080/"
        },
        "outputId": "ae563962-81a9-4ace-98e7-d522e74dfa48"
      },
      "execution_count": null,
      "outputs": [
        {
          "output_type": "stream",
          "name": "stdout",
          "text": [
            "127\n"
          ]
        }
      ]
    },
    {
      "cell_type": "markdown",
      "source": [
        "### Gênero"
      ],
      "metadata": {
        "id": "4Rkrunmm6vuB"
      }
    },
    {
      "cell_type": "code",
      "source": [
        "gen_total = df1.groupby(['Genero Numerico']).count()\n",
        "gen_total"
      ],
      "metadata": {
        "id": "RUo5GxS_DgcJ",
        "colab": {
          "base_uri": "https://localhost:8080/",
          "height": 239
        },
        "outputId": "1284d017-adb6-424d-9266-050a9b7e7abd"
      },
      "execution_count": null,
      "outputs": [
        {
          "output_type": "execute_result",
          "data": {
            "text/plain": [
              "                 Matrícula  Nome Completo  Dt Admissao  Dt Saida  Tipo Saida  \\\n",
              "Genero Numerico                                                                \n",
              "0                      363            363          363       156         156   \n",
              "1                      112            112          112        35          35   \n",
              "\n",
              "                 Cargo  Salario Mês  Dt Nascimento  Genero  Etnia  \\\n",
              "Genero Numerico                                                     \n",
              "0                  363          363            363     363    363   \n",
              "1                  112          112            112     112    112   \n",
              "\n",
              "                 Estado Civil  Escolaridade   Estado  Cidade  Area  \\\n",
              "Genero Numerico                                                      \n",
              "0                         363            363     363     363   363   \n",
              "1                         112            112     112     112   112   \n",
              "\n",
              "                 Tipo Saida Numerico  Tempo de Trabalho  Idade  \n",
              "Genero Numerico                                                 \n",
              "0                                156                156    363  \n",
              "1                                 35                 35    112  "
            ],
            "text/html": [
              "\n",
              "  <div id=\"df-9c0b714c-989c-4963-838a-581212bdf745\">\n",
              "    <div class=\"colab-df-container\">\n",
              "      <div>\n",
              "<style scoped>\n",
              "    .dataframe tbody tr th:only-of-type {\n",
              "        vertical-align: middle;\n",
              "    }\n",
              "\n",
              "    .dataframe tbody tr th {\n",
              "        vertical-align: top;\n",
              "    }\n",
              "\n",
              "    .dataframe thead th {\n",
              "        text-align: right;\n",
              "    }\n",
              "</style>\n",
              "<table border=\"1\" class=\"dataframe\">\n",
              "  <thead>\n",
              "    <tr style=\"text-align: right;\">\n",
              "      <th></th>\n",
              "      <th>Matrícula</th>\n",
              "      <th>Nome Completo</th>\n",
              "      <th>Dt Admissao</th>\n",
              "      <th>Dt Saida</th>\n",
              "      <th>Tipo Saida</th>\n",
              "      <th>Cargo</th>\n",
              "      <th>Salario Mês</th>\n",
              "      <th>Dt Nascimento</th>\n",
              "      <th>Genero</th>\n",
              "      <th>Etnia</th>\n",
              "      <th>Estado Civil</th>\n",
              "      <th>Escolaridade</th>\n",
              "      <th>Estado</th>\n",
              "      <th>Cidade</th>\n",
              "      <th>Area</th>\n",
              "      <th>Tipo Saida Numerico</th>\n",
              "      <th>Tempo de Trabalho</th>\n",
              "      <th>Idade</th>\n",
              "    </tr>\n",
              "    <tr>\n",
              "      <th>Genero Numerico</th>\n",
              "      <th></th>\n",
              "      <th></th>\n",
              "      <th></th>\n",
              "      <th></th>\n",
              "      <th></th>\n",
              "      <th></th>\n",
              "      <th></th>\n",
              "      <th></th>\n",
              "      <th></th>\n",
              "      <th></th>\n",
              "      <th></th>\n",
              "      <th></th>\n",
              "      <th></th>\n",
              "      <th></th>\n",
              "      <th></th>\n",
              "      <th></th>\n",
              "      <th></th>\n",
              "      <th></th>\n",
              "    </tr>\n",
              "  </thead>\n",
              "  <tbody>\n",
              "    <tr>\n",
              "      <th>0</th>\n",
              "      <td>363</td>\n",
              "      <td>363</td>\n",
              "      <td>363</td>\n",
              "      <td>156</td>\n",
              "      <td>156</td>\n",
              "      <td>363</td>\n",
              "      <td>363</td>\n",
              "      <td>363</td>\n",
              "      <td>363</td>\n",
              "      <td>363</td>\n",
              "      <td>363</td>\n",
              "      <td>363</td>\n",
              "      <td>363</td>\n",
              "      <td>363</td>\n",
              "      <td>363</td>\n",
              "      <td>156</td>\n",
              "      <td>156</td>\n",
              "      <td>363</td>\n",
              "    </tr>\n",
              "    <tr>\n",
              "      <th>1</th>\n",
              "      <td>112</td>\n",
              "      <td>112</td>\n",
              "      <td>112</td>\n",
              "      <td>35</td>\n",
              "      <td>35</td>\n",
              "      <td>112</td>\n",
              "      <td>112</td>\n",
              "      <td>112</td>\n",
              "      <td>112</td>\n",
              "      <td>112</td>\n",
              "      <td>112</td>\n",
              "      <td>112</td>\n",
              "      <td>112</td>\n",
              "      <td>112</td>\n",
              "      <td>112</td>\n",
              "      <td>35</td>\n",
              "      <td>35</td>\n",
              "      <td>112</td>\n",
              "    </tr>\n",
              "  </tbody>\n",
              "</table>\n",
              "</div>\n",
              "      <button class=\"colab-df-convert\" onclick=\"convertToInteractive('df-9c0b714c-989c-4963-838a-581212bdf745')\"\n",
              "              title=\"Convert this dataframe to an interactive table.\"\n",
              "              style=\"display:none;\">\n",
              "        \n",
              "  <svg xmlns=\"http://www.w3.org/2000/svg\" height=\"24px\"viewBox=\"0 0 24 24\"\n",
              "       width=\"24px\">\n",
              "    <path d=\"M0 0h24v24H0V0z\" fill=\"none\"/>\n",
              "    <path d=\"M18.56 5.44l.94 2.06.94-2.06 2.06-.94-2.06-.94-.94-2.06-.94 2.06-2.06.94zm-11 1L8.5 8.5l.94-2.06 2.06-.94-2.06-.94L8.5 2.5l-.94 2.06-2.06.94zm10 10l.94 2.06.94-2.06 2.06-.94-2.06-.94-.94-2.06-.94 2.06-2.06.94z\"/><path d=\"M17.41 7.96l-1.37-1.37c-.4-.4-.92-.59-1.43-.59-.52 0-1.04.2-1.43.59L10.3 9.45l-7.72 7.72c-.78.78-.78 2.05 0 2.83L4 21.41c.39.39.9.59 1.41.59.51 0 1.02-.2 1.41-.59l7.78-7.78 2.81-2.81c.8-.78.8-2.07 0-2.86zM5.41 20L4 18.59l7.72-7.72 1.47 1.35L5.41 20z\"/>\n",
              "  </svg>\n",
              "      </button>\n",
              "      \n",
              "  <style>\n",
              "    .colab-df-container {\n",
              "      display:flex;\n",
              "      flex-wrap:wrap;\n",
              "      gap: 12px;\n",
              "    }\n",
              "\n",
              "    .colab-df-convert {\n",
              "      background-color: #E8F0FE;\n",
              "      border: none;\n",
              "      border-radius: 50%;\n",
              "      cursor: pointer;\n",
              "      display: none;\n",
              "      fill: #1967D2;\n",
              "      height: 32px;\n",
              "      padding: 0 0 0 0;\n",
              "      width: 32px;\n",
              "    }\n",
              "\n",
              "    .colab-df-convert:hover {\n",
              "      background-color: #E2EBFA;\n",
              "      box-shadow: 0px 1px 2px rgba(60, 64, 67, 0.3), 0px 1px 3px 1px rgba(60, 64, 67, 0.15);\n",
              "      fill: #174EA6;\n",
              "    }\n",
              "\n",
              "    [theme=dark] .colab-df-convert {\n",
              "      background-color: #3B4455;\n",
              "      fill: #D2E3FC;\n",
              "    }\n",
              "\n",
              "    [theme=dark] .colab-df-convert:hover {\n",
              "      background-color: #434B5C;\n",
              "      box-shadow: 0px 1px 3px 1px rgba(0, 0, 0, 0.15);\n",
              "      filter: drop-shadow(0px 1px 2px rgba(0, 0, 0, 0.3));\n",
              "      fill: #FFFFFF;\n",
              "    }\n",
              "  </style>\n",
              "\n",
              "      <script>\n",
              "        const buttonEl =\n",
              "          document.querySelector('#df-9c0b714c-989c-4963-838a-581212bdf745 button.colab-df-convert');\n",
              "        buttonEl.style.display =\n",
              "          google.colab.kernel.accessAllowed ? 'block' : 'none';\n",
              "\n",
              "        async function convertToInteractive(key) {\n",
              "          const element = document.querySelector('#df-9c0b714c-989c-4963-838a-581212bdf745');\n",
              "          const dataTable =\n",
              "            await google.colab.kernel.invokeFunction('convertToInteractive',\n",
              "                                                     [key], {});\n",
              "          if (!dataTable) return;\n",
              "\n",
              "          const docLinkHtml = 'Like what you see? Visit the ' +\n",
              "            '<a target=\"_blank\" href=https://colab.research.google.com/notebooks/data_table.ipynb>data table notebook</a>'\n",
              "            + ' to learn more about interactive tables.';\n",
              "          element.innerHTML = '';\n",
              "          dataTable['output_type'] = 'display_data';\n",
              "          await google.colab.output.renderOutput(dataTable, element);\n",
              "          const docLink = document.createElement('div');\n",
              "          docLink.innerHTML = docLinkHtml;\n",
              "          element.appendChild(docLink);\n",
              "        }\n",
              "      </script>\n",
              "    </div>\n",
              "  </div>\n",
              "  "
            ]
          },
          "metadata": {},
          "execution_count": 15
        }
      ]
    },
    {
      "cell_type": "code",
      "source": [
        "gen_total_masc = gen_total.iloc[0, 1]\n",
        "gen_total_masc"
      ],
      "metadata": {
        "id": "UNayySh_Luer",
        "colab": {
          "base_uri": "https://localhost:8080/"
        },
        "outputId": "d3310ff4-3ef3-430a-9986-933367120249"
      },
      "execution_count": null,
      "outputs": [
        {
          "output_type": "execute_result",
          "data": {
            "text/plain": [
              "363"
            ]
          },
          "metadata": {},
          "execution_count": 16
        }
      ]
    },
    {
      "cell_type": "code",
      "source": [
        "gen_total_fem = gen_total.iloc[1, 1]\n",
        "gen_total_fem"
      ],
      "metadata": {
        "id": "iDrlxlLPLy_s",
        "colab": {
          "base_uri": "https://localhost:8080/"
        },
        "outputId": "090b6778-6e49-4590-99b4-eae8ad7d168d"
      },
      "execution_count": null,
      "outputs": [
        {
          "output_type": "execute_result",
          "data": {
            "text/plain": [
              "112"
            ]
          },
          "metadata": {},
          "execution_count": 17
        }
      ]
    },
    {
      "cell_type": "code",
      "source": [
        "gen_masc_left = gen_total.iloc[0, 3]\n",
        "gen_masc_left"
      ],
      "metadata": {
        "id": "MvqhzZDfL5qd",
        "colab": {
          "base_uri": "https://localhost:8080/"
        },
        "outputId": "80bbd39c-5811-4971-9b18-60ef4633d6f5"
      },
      "execution_count": null,
      "outputs": [
        {
          "output_type": "execute_result",
          "data": {
            "text/plain": [
              "156"
            ]
          },
          "metadata": {},
          "execution_count": 18
        }
      ]
    },
    {
      "cell_type": "code",
      "source": [
        "gen_fem_left = gen_total.iloc[1, 3]\n",
        "gen_fem_left"
      ],
      "metadata": {
        "id": "2xBrQOo8MTu2",
        "colab": {
          "base_uri": "https://localhost:8080/"
        },
        "outputId": "34de8eee-2a87-4009-ee98-f331290e711f"
      },
      "execution_count": null,
      "outputs": [
        {
          "output_type": "execute_result",
          "data": {
            "text/plain": [
              "35"
            ]
          },
          "metadata": {},
          "execution_count": 19
        }
      ]
    },
    {
      "cell_type": "code",
      "source": [
        "gen_fem_prop = (gen_fem_left/gen_total_fem)*100\n",
        "gen_fem_prop"
      ],
      "metadata": {
        "id": "RBcyDSm8MpbY",
        "colab": {
          "base_uri": "https://localhost:8080/"
        },
        "outputId": "def43410-af71-4884-98f8-a0beb4de40f2"
      },
      "execution_count": null,
      "outputs": [
        {
          "output_type": "execute_result",
          "data": {
            "text/plain": [
              "31.25"
            ]
          },
          "metadata": {},
          "execution_count": 20
        }
      ]
    },
    {
      "cell_type": "code",
      "source": [
        "gen_masc_prop = (gen_masc_left/gen_total_masc)*100\n",
        "gen_masc_prop"
      ],
      "metadata": {
        "id": "YIGyWzV3NRQG",
        "colab": {
          "base_uri": "https://localhost:8080/"
        },
        "outputId": "e1e837ae-5c7d-4c19-be55-f98ded86c158"
      },
      "execution_count": null,
      "outputs": [
        {
          "output_type": "execute_result",
          "data": {
            "text/plain": [
              "42.97520661157025"
            ]
          },
          "metadata": {},
          "execution_count": 21
        }
      ]
    },
    {
      "cell_type": "markdown",
      "source": [
        "# Gráficos"
      ],
      "metadata": {
        "id": "3YfL4V1i6OAd"
      }
    },
    {
      "cell_type": "markdown",
      "source": [
        "### Porcentagem de saídas em gênero "
      ],
      "metadata": {
        "id": "CMoer3zb9rfy"
      }
    },
    {
      "cell_type": "code",
      "source": [
        "gen_x = ['mulheres', 'homens']\n",
        "gen_y = [gen_fem_prop, gen_masc_prop]\n",
        "\n",
        "plt.bar(gen_x, gen_y)\n",
        "\n",
        "plt.xlabel('Gênero')\n",
        "plt.ylabel('Desligamentos (em %)')\n",
        "plt.title('Desligamentos x Gênero (proporcionalmente)')"
      ],
      "metadata": {
        "id": "hXV-6dUcNdQI",
        "colab": {
          "base_uri": "https://localhost:8080/",
          "height": 313
        },
        "outputId": "c88e63d5-0444-421c-9401-dc6206e9a12d"
      },
      "execution_count": null,
      "outputs": [
        {
          "output_type": "execute_result",
          "data": {
            "text/plain": [
              "Text(0.5, 1.0, 'Desligamentos x Gênero (proporcionalmente)')"
            ]
          },
          "metadata": {},
          "execution_count": 22
        },
        {
          "output_type": "display_data",
          "data": {
            "text/plain": [
              "<Figure size 432x288 with 1 Axes>"
            ],
            "image/png": "[encoded data removed]"
          },
          "metadata": {
            "needs_background": "light"
          }
        }
      ]
    },
    {
      "cell_type": "markdown",
      "source": [
        "# Testes"
      ],
      "metadata": {
        "id": "ABImSf5yBnA0"
      }
    },
    {
      "cell_type": "code",
      "source": [
        "df1"
      ],
      "metadata": {
        "colab": {
          "base_uri": "https://localhost:8080/",
          "height": 869
        },
        "id": "IF_FaqWMBomM",
        "outputId": "2d8e746b-896c-4963-c237-8d85dd7d5a90"
      },
      "execution_count": null,
      "outputs": [
        {
          "output_type": "execute_result",
          "data": {
            "text/plain": [
              "     Matrícula            Nome Completo          Dt Admissao   Dt Saida  \\\n",
              "0         20.0  Pessoa Colaboradora 287  2009-04-01 00:00:00 2021-10-29   \n",
              "1         90.0  Pessoa Colaboradora 336  2015-05-04 00:00:00 2022-05-20   \n",
              "2          7.0  Pessoa Colaboradora 291  2015-09-01 00:00:00 2021-10-29   \n",
              "3         91.0  Pessoa Colaboradora 391  2015-09-21 00:00:00 2022-05-03   \n",
              "4          8.0  Pessoa Colaboradora 412  2015-12-07 00:00:00 2020-05-29   \n",
              "..         ...                      ...                  ...        ...   \n",
              "470      441.0  Pessoa Colaboradora 168           23/12/2020        NaT   \n",
              "471      447.0  Pessoa Colaboradora 274           23/12/2020        NaT   \n",
              "472      460.0  Pessoa Colaboradora 267           23/12/2020        NaT   \n",
              "473        3.0   Pessoa Colaboradora 92           26/03/2015        NaT   \n",
              "474      448.0  Pessoa Colaboradora 279           26/05/2021        NaT   \n",
              "\n",
              "             Tipo Saida              Cargo  Salario Mês Dt Nascimento  \\\n",
              "0    Pedido de Demissão   Dev Especialista     4406.965    1981-06-16   \n",
              "1    Pedido de Demissão             Dev Sr     4660.530    1993-06-10   \n",
              "2    Pedido de Demissão          Arquiteto     7000.000    1986-08-31   \n",
              "3    Pedido de Demissão          Arquiteto     7772.155    1985-10-25   \n",
              "4    Pedido de Demissão             Dev Pl     2750.000    1994-06-27   \n",
              "..                  ...                ...          ...           ...   \n",
              "470                 NaN             Dev Jr     1716.480    1999-01-11   \n",
              "471                 NaN             Dev Jr     1716.480    1985-12-19   \n",
              "472                 NaN             Dev Jr     1716.480    1991-12-15   \n",
              "473                 NaN         Gerente Sr     8250.000    1991-08-03   \n",
              "474                 NaN       Funcional Pl     3491.660    1998-03-01   \n",
              "\n",
              "         Genero          Etnia Estado Civil        Escolaridade  Estado  \\\n",
              "0    Masculino          Branca    Solteiro             Graduação     SP   \n",
              "1    Masculino   Não Informada    Solteiro             Graduação     SP   \n",
              "2    Masculino           Parda    Solteiro             Graduação     SP   \n",
              "3    Masculino   Não Informada      Casado             Graduação     SP   \n",
              "4    Masculino           Parda    Solteiro             Graduação     SP   \n",
              "..          ...            ...          ...                  ...    ...   \n",
              "470  Masculino          Branca     Solteiro  Superior incompleto     RS   \n",
              "471  Masculino          Branca     Solteiro  Superior incompleto     RS   \n",
              "472  Masculino          Branca     Solteiro  Superior incompleto     SC   \n",
              "473  Masculino          Branca     Solteiro            Graduação     SP   \n",
              "474  Masculino          Branca     Solteiro  Superior incompleto     SP   \n",
              "\n",
              "                    Cidade                  Area  Genero Numerico  \\\n",
              "0                   Santos                   AMS                0   \n",
              "1                São Paulo             Analytics                0   \n",
              "2                São Paulo  Core & Industrias II                0   \n",
              "3    Santa Bárbara D'Oeste             Analytics                0   \n",
              "4                São Paulo        CPG & Retail I                0   \n",
              "..                     ...                   ...              ...   \n",
              "470                Pelotas              Commerce                0   \n",
              "471                Pelotas              Commerce                0   \n",
              "472               São José              Commerce                0   \n",
              "473                 Osasco        CPG & Retail I                0   \n",
              "474              São Paulo             Mkt Cloud                0   \n",
              "\n",
              "    Tipo Saida Numerico Tempo de Trabalho  Idade  \n",
              "0    Pedido de Demissão         4594 days     41  \n",
              "1    Pedido de Demissão         2573 days     29  \n",
              "2    Pedido de Demissão         2250 days     35  \n",
              "3    Pedido de Demissão         2416 days     36  \n",
              "4    Pedido de Demissão         1635 days     28  \n",
              "..                  ...               ...    ...  \n",
              "470                 NaN               NaT     23  \n",
              "471                 NaN               NaT     36  \n",
              "472                 NaN               NaT     30  \n",
              "473                 NaN               NaT     31  \n",
              "474                 NaN               NaT     24  \n",
              "\n",
              "[475 rows x 19 columns]"
            ],
            "text/html": [
              "\n",
              "  <div id=\"df-f768f04c-178c-472d-a06b-94f2e36baa9b\">\n",
              "    <div class=\"colab-df-container\">\n",
              "      <div>\n",
              "<style scoped>\n",
              "    .dataframe tbody tr th:only-of-type {\n",
              "        vertical-align: middle;\n",
              "    }\n",
              "\n",
              "    .dataframe tbody tr th {\n",
              "        vertical-align: top;\n",
              "    }\n",
              "\n",
              "    .dataframe thead th {\n",
              "        text-align: right;\n",
              "    }\n",
              "</style>\n",
              "<table border=\"1\" class=\"dataframe\">\n",
              "  <thead>\n",
              "    <tr style=\"text-align: right;\">\n",
              "      <th></th>\n",
              "      <th>Matrícula</th>\n",
              "      <th>Nome Completo</th>\n",
              "      <th>Dt Admissao</th>\n",
              "      <th>Dt Saida</th>\n",
              "      <th>Tipo Saida</th>\n",
              "      <th>Cargo</th>\n",
              "      <th>Salario Mês</th>\n",
              "      <th>Dt Nascimento</th>\n",
              "      <th>Genero</th>\n",
              "      <th>Etnia</th>\n",
              "      <th>Estado Civil</th>\n",
              "      <th>Escolaridade</th>\n",
              "      <th>Estado</th>\n",
              "      <th>Cidade</th>\n",
              "      <th>Area</th>\n",
              "      <th>Genero Numerico</th>\n",
              "      <th>Tipo Saida Numerico</th>\n",
              "      <th>Tempo de Trabalho</th>\n",
              "      <th>Idade</th>\n",
              "    </tr>\n",
              "  </thead>\n",
              "  <tbody>\n",
              "    <tr>\n",
              "      <th>0</th>\n",
              "      <td>20.0</td>\n",
              "      <td>Pessoa Colaboradora 287</td>\n",
              "      <td>2009-04-01 00:00:00</td>\n",
              "      <td>2021-10-29</td>\n",
              "      <td>Pedido de Demissão</td>\n",
              "      <td>Dev Especialista</td>\n",
              "      <td>4406.965</td>\n",
              "      <td>1981-06-16</td>\n",
              "      <td>Masculino</td>\n",
              "      <td>Branca</td>\n",
              "      <td>Solteiro</td>\n",
              "      <td>Graduação</td>\n",
              "      <td>SP</td>\n",
              "      <td>Santos</td>\n",
              "      <td>AMS</td>\n",
              "      <td>0</td>\n",
              "      <td>Pedido de Demissão</td>\n",
              "      <td>4594 days</td>\n",
              "      <td>41</td>\n",
              "    </tr>\n",
              "    <tr>\n",
              "      <th>1</th>\n",
              "      <td>90.0</td>\n",
              "      <td>Pessoa Colaboradora 336</td>\n",
              "      <td>2015-05-04 00:00:00</td>\n",
              "      <td>2022-05-20</td>\n",
              "      <td>Pedido de Demissão</td>\n",
              "      <td>Dev Sr</td>\n",
              "      <td>4660.530</td>\n",
              "      <td>1993-06-10</td>\n",
              "      <td>Masculino</td>\n",
              "      <td>Não Informada</td>\n",
              "      <td>Solteiro</td>\n",
              "      <td>Graduação</td>\n",
              "      <td>SP</td>\n",
              "      <td>São Paulo</td>\n",
              "      <td>Analytics</td>\n",
              "      <td>0</td>\n",
              "      <td>Pedido de Demissão</td>\n",
              "      <td>2573 days</td>\n",
              "      <td>29</td>\n",
              "    </tr>\n",
              "    <tr>\n",
              "      <th>2</th>\n",
              "      <td>7.0</td>\n",
              "      <td>Pessoa Colaboradora 291</td>\n",
              "      <td>2015-09-01 00:00:00</td>\n",
              "      <td>2021-10-29</td>\n",
              "      <td>Pedido de Demissão</td>\n",
              "      <td>Arquiteto</td>\n",
              "      <td>7000.000</td>\n",
              "      <td>1986-08-31</td>\n",
              "      <td>Masculino</td>\n",
              "      <td>Parda</td>\n",
              "      <td>Solteiro</td>\n",
              "      <td>Graduação</td>\n",
              "      <td>SP</td>\n",
              "      <td>São Paulo</td>\n",
              "      <td>Core &amp; Industrias II</td>\n",
              "      <td>0</td>\n",
              "      <td>Pedido de Demissão</td>\n",
              "      <td>2250 days</td>\n",
              "      <td>35</td>\n",
              "    </tr>\n",
              "    <tr>\n",
              "      <th>3</th>\n",
              "      <td>91.0</td>\n",
              "      <td>Pessoa Colaboradora 391</td>\n",
              "      <td>2015-09-21 00:00:00</td>\n",
              "      <td>2022-05-03</td>\n",
              "      <td>Pedido de Demissão</td>\n",
              "      <td>Arquiteto</td>\n",
              "      <td>7772.155</td>\n",
              "      <td>1985-10-25</td>\n",
              "      <td>Masculino</td>\n",
              "      <td>Não Informada</td>\n",
              "      <td>Casado</td>\n",
              "      <td>Graduação</td>\n",
              "      <td>SP</td>\n",
              "      <td>Santa Bárbara D'Oeste</td>\n",
              "      <td>Analytics</td>\n",
              "      <td>0</td>\n",
              "      <td>Pedido de Demissão</td>\n",
              "      <td>2416 days</td>\n",
              "      <td>36</td>\n",
              "    </tr>\n",
              "    <tr>\n",
              "      <th>4</th>\n",
              "      <td>8.0</td>\n",
              "      <td>Pessoa Colaboradora 412</td>\n",
              "      <td>2015-12-07 00:00:00</td>\n",
              "      <td>2020-05-29</td>\n",
              "      <td>Pedido de Demissão</td>\n",
              "      <td>Dev Pl</td>\n",
              "      <td>2750.000</td>\n",
              "      <td>1994-06-27</td>\n",
              "      <td>Masculino</td>\n",
              "      <td>Parda</td>\n",
              "      <td>Solteiro</td>\n",
              "      <td>Graduação</td>\n",
              "      <td>SP</td>\n",
              "      <td>São Paulo</td>\n",
              "      <td>CPG &amp; Retail I</td>\n",
              "      <td>0</td>\n",
              "      <td>Pedido de Demissão</td>\n",
              "      <td>1635 days</td>\n",
              "      <td>28</td>\n",
              "    </tr>\n",
              "    <tr>\n",
              "      <th>...</th>\n",
              "      <td>...</td>\n",
              "      <td>...</td>\n",
              "      <td>...</td>\n",
              "      <td>...</td>\n",
              "      <td>...</td>\n",
              "      <td>...</td>\n",
              "      <td>...</td>\n",
              "      <td>...</td>\n",
              "      <td>...</td>\n",
              "      <td>...</td>\n",
              "      <td>...</td>\n",
              "      <td>...</td>\n",
              "      <td>...</td>\n",
              "      <td>...</td>\n",
              "      <td>...</td>\n",
              "      <td>...</td>\n",
              "      <td>...</td>\n",
              "      <td>...</td>\n",
              "      <td>...</td>\n",
              "    </tr>\n",
              "    <tr>\n",
              "      <th>470</th>\n",
              "      <td>441.0</td>\n",
              "      <td>Pessoa Colaboradora 168</td>\n",
              "      <td>23/12/2020</td>\n",
              "      <td>NaT</td>\n",
              "      <td>NaN</td>\n",
              "      <td>Dev Jr</td>\n",
              "      <td>1716.480</td>\n",
              "      <td>1999-01-11</td>\n",
              "      <td>Masculino</td>\n",
              "      <td>Branca</td>\n",
              "      <td>Solteiro</td>\n",
              "      <td>Superior incompleto</td>\n",
              "      <td>RS</td>\n",
              "      <td>Pelotas</td>\n",
              "      <td>Commerce</td>\n",
              "      <td>0</td>\n",
              "      <td>NaN</td>\n",
              "      <td>NaT</td>\n",
              "      <td>23</td>\n",
              "    </tr>\n",
              "    <tr>\n",
              "      <th>471</th>\n",
              "      <td>447.0</td>\n",
              "      <td>Pessoa Colaboradora 274</td>\n",
              "      <td>23/12/2020</td>\n",
              "      <td>NaT</td>\n",
              "      <td>NaN</td>\n",
              "      <td>Dev Jr</td>\n",
              "      <td>1716.480</td>\n",
              "      <td>1985-12-19</td>\n",
              "      <td>Masculino</td>\n",
              "      <td>Branca</td>\n",
              "      <td>Solteiro</td>\n",
              "      <td>Superior incompleto</td>\n",
              "      <td>RS</td>\n",
              "      <td>Pelotas</td>\n",
              "      <td>Commerce</td>\n",
              "      <td>0</td>\n",
              "      <td>NaN</td>\n",
              "      <td>NaT</td>\n",
              "      <td>36</td>\n",
              "    </tr>\n",
              "    <tr>\n",
              "      <th>472</th>\n",
              "      <td>460.0</td>\n",
              "      <td>Pessoa Colaboradora 267</td>\n",
              "      <td>23/12/2020</td>\n",
              "      <td>NaT</td>\n",
              "      <td>NaN</td>\n",
              "      <td>Dev Jr</td>\n",
              "      <td>1716.480</td>\n",
              "      <td>1991-12-15</td>\n",
              "      <td>Masculino</td>\n",
              "      <td>Branca</td>\n",
              "      <td>Solteiro</td>\n",
              "      <td>Superior incompleto</td>\n",
              "      <td>SC</td>\n",
              "      <td>São José</td>\n",
              "      <td>Commerce</td>\n",
              "      <td>0</td>\n",
              "      <td>NaN</td>\n",
              "      <td>NaT</td>\n",
              "      <td>30</td>\n",
              "    </tr>\n",
              "    <tr>\n",
              "      <th>473</th>\n",
              "      <td>3.0</td>\n",
              "      <td>Pessoa Colaboradora 92</td>\n",
              "      <td>26/03/2015</td>\n",
              "      <td>NaT</td>\n",
              "      <td>NaN</td>\n",
              "      <td>Gerente Sr</td>\n",
              "      <td>8250.000</td>\n",
              "      <td>1991-08-03</td>\n",
              "      <td>Masculino</td>\n",
              "      <td>Branca</td>\n",
              "      <td>Solteiro</td>\n",
              "      <td>Graduação</td>\n",
              "      <td>SP</td>\n",
              "      <td>Osasco</td>\n",
              "      <td>CPG &amp; Retail I</td>\n",
              "      <td>0</td>\n",
              "      <td>NaN</td>\n",
              "      <td>NaT</td>\n",
              "      <td>31</td>\n",
              "    </tr>\n",
              "    <tr>\n",
              "      <th>474</th>\n",
              "      <td>448.0</td>\n",
              "      <td>Pessoa Colaboradora 279</td>\n",
              "      <td>26/05/2021</td>\n",
              "      <td>NaT</td>\n",
              "      <td>NaN</td>\n",
              "      <td>Funcional Pl</td>\n",
              "      <td>3491.660</td>\n",
              "      <td>1998-03-01</td>\n",
              "      <td>Masculino</td>\n",
              "      <td>Branca</td>\n",
              "      <td>Solteiro</td>\n",
              "      <td>Superior incompleto</td>\n",
              "      <td>SP</td>\n",
              "      <td>São Paulo</td>\n",
              "      <td>Mkt Cloud</td>\n",
              "      <td>0</td>\n",
              "      <td>NaN</td>\n",
              "      <td>NaT</td>\n",
              "      <td>24</td>\n",
              "    </tr>\n",
              "  </tbody>\n",
              "</table>\n",
              "<p>475 rows × 19 columns</p>\n",
              "</div>\n",
              "      <button class=\"colab-df-convert\" onclick=\"convertToInteractive('df-f768f04c-178c-472d-a06b-94f2e36baa9b')\"\n",
              "              title=\"Convert this dataframe to an interactive table.\"\n",
              "              style=\"display:none;\">\n",
              "        \n",
              "  <svg xmlns=\"http://www.w3.org/2000/svg\" height=\"24px\"viewBox=\"0 0 24 24\"\n",
              "       width=\"24px\">\n",
              "    <path d=\"M0 0h24v24H0V0z\" fill=\"none\"/>\n",
              "    <path d=\"M18.56 5.44l.94 2.06.94-2.06 2.06-.94-2.06-.94-.94-2.06-.94 2.06-2.06.94zm-11 1L8.5 8.5l.94-2.06 2.06-.94-2.06-.94L8.5 2.5l-.94 2.06-2.06.94zm10 10l.94 2.06.94-2.06 2.06-.94-2.06-.94-.94-2.06-.94 2.06-2.06.94z\"/><path d=\"M17.41 7.96l-1.37-1.37c-.4-.4-.92-.59-1.43-.59-.52 0-1.04.2-1.43.59L10.3 9.45l-7.72 7.72c-.78.78-.78 2.05 0 2.83L4 21.41c.39.39.9.59 1.41.59.51 0 1.02-.2 1.41-.59l7.78-7.78 2.81-2.81c.8-.78.8-2.07 0-2.86zM5.41 20L4 18.59l7.72-7.72 1.47 1.35L5.41 20z\"/>\n",
              "  </svg>\n",
              "      </button>\n",
              "      \n",
              "  <style>\n",
              "    .colab-df-container {\n",
              "      display:flex;\n",
              "      flex-wrap:wrap;\n",
              "      gap: 12px;\n",
              "    }\n",
              "\n",
              "    .colab-df-convert {\n",
              "      background-color: #E8F0FE;\n",
              "      border: none;\n",
              "      border-radius: 50%;\n",
              "      cursor: pointer;\n",
              "      display: none;\n",
              "      fill: #1967D2;\n",
              "      height: 32px;\n",
              "      padding: 0 0 0 0;\n",
              "      width: 32px;\n",
              "    }\n",
              "\n",
              "    .colab-df-convert:hover {\n",
              "      background-color: #E2EBFA;\n",
              "      box-shadow: 0px 1px 2px rgba(60, 64, 67, 0.3), 0px 1px 3px 1px rgba(60, 64, 67, 0.15);\n",
              "      fill: #174EA6;\n",
              "    }\n",
              "\n",
              "    [theme=dark] .colab-df-convert {\n",
              "      background-color: #3B4455;\n",
              "      fill: #D2E3FC;\n",
              "    }\n",
              "\n",
              "    [theme=dark] .colab-df-convert:hover {\n",
              "      background-color: #434B5C;\n",
              "      box-shadow: 0px 1px 3px 1px rgba(0, 0, 0, 0.15);\n",
              "      filter: drop-shadow(0px 1px 2px rgba(0, 0, 0, 0.3));\n",
              "      fill: #FFFFFF;\n",
              "    }\n",
              "  </style>\n",
              "\n",
              "      <script>\n",
              "        const buttonEl =\n",
              "          document.querySelector('#df-f768f04c-178c-472d-a06b-94f2e36baa9b button.colab-df-convert');\n",
              "        buttonEl.style.display =\n",
              "          google.colab.kernel.accessAllowed ? 'block' : 'none';\n",
              "\n",
              "        async function convertToInteractive(key) {\n",
              "          const element = document.querySelector('#df-f768f04c-178c-472d-a06b-94f2e36baa9b');\n",
              "          const dataTable =\n",
              "            await google.colab.kernel.invokeFunction('convertToInteractive',\n",
              "                                                     [key], {});\n",
              "          if (!dataTable) return;\n",
              "\n",
              "          const docLinkHtml = 'Like what you see? Visit the ' +\n",
              "            '<a target=\"_blank\" href=https://colab.research.google.com/notebooks/data_table.ipynb>data table notebook</a>'\n",
              "            + ' to learn more about interactive tables.';\n",
              "          element.innerHTML = '';\n",
              "          dataTable['output_type'] = 'display_data';\n",
              "          await google.colab.output.renderOutput(dataTable, element);\n",
              "          const docLink = document.createElement('div');\n",
              "          docLink.innerHTML = docLinkHtml;\n",
              "          element.appendChild(docLink);\n",
              "        }\n",
              "      </script>\n",
              "    </div>\n",
              "  </div>\n",
              "  "
            ]
          },
          "metadata": {},
          "execution_count": 23
        }
      ]
    },
    {
      "cell_type": "code",
      "source": [
        "df1.Idade.value_counts()"
      ],
      "metadata": {
        "colab": {
          "base_uri": "https://localhost:8080/"
        },
        "id": "6fl3ApT9JwLt",
        "outputId": "5c220740-81fe-440d-83a5-9b67a746105a"
      },
      "execution_count": null,
      "outputs": [
        {
          "output_type": "execute_result",
          "data": {
            "text/plain": [
              "31    29\n",
              "24    27\n",
              "23    27\n",
              "30    26\n",
              "27    26\n",
              "32    25\n",
              "22    24\n",
              "26    24\n",
              "25    23\n",
              "28    23\n",
              "21    22\n",
              "29    19\n",
              "35    18\n",
              "33    17\n",
              "34    16\n",
              "36    15\n",
              "19    12\n",
              "39    11\n",
              "20    11\n",
              "40    10\n",
              "37    10\n",
              "41     9\n",
              "38     8\n",
              "42     6\n",
              "48     4\n",
              "44     4\n",
              "43     4\n",
              "51     4\n",
              "45     3\n",
              "55     3\n",
              "46     2\n",
              "52     2\n",
              "49     2\n",
              "18     2\n",
              "61     1\n",
              "57     1\n",
              "50     1\n",
              "54     1\n",
              "65     1\n",
              "53     1\n",
              "64     1\n",
              "Name: Idade, dtype: int64"
            ]
          },
          "metadata": {},
          "execution_count": 24
        }
      ]
    }
  ]
}